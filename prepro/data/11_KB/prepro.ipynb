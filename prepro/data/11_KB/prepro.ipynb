{
 "cells": [
  {
   "cell_type": "code",
   "execution_count": 1,
   "id": "f2bd2968",
   "metadata": {},
   "outputs": [],
   "source": [
    "from pdbfixer import PDBFixer\n",
    "from openmm.app import PDBFile\n",
    "import ase"
   ]
  },
  {
   "cell_type": "code",
   "execution_count": 2,
   "id": "6e5a8026",
   "metadata": {},
   "outputs": [
    {
     "name": "stdout",
     "output_type": "stream",
     "text": [
      " PyMOL(TM) Molecular Graphics System, Version 2.5.0.\n",
      " Copyright (c) Schrodinger, LLC.\n",
      " All Rights Reserved.\n",
      " \n",
      "    Created by Warren L. DeLano, Ph.D. \n",
      " \n",
      "    PyMOL is user-supported open-source software.  Although some versions\n",
      "    are freely available, PyMOL is not in the public domain.\n",
      " \n",
      "    If PyMOL is helpful in your work or study, then please volunteer \n",
      "    support for our ongoing efforts to create open and affordable scientific\n",
      "    software by purchasing a PyMOL Maintenance and/or Support subscription.\n",
      "\n",
      "    More information can be found at \"http://www.pymol.org\".\n",
      " \n",
      "    Enter \"help\" for a list of commands.\n",
      "    Enter \"help <command-name>\" for information on a specific command.\n",
      "\n",
      " Hit ESC anytime to toggle between text and graphics.\n",
      "\n",
      " Detected 48 CPU cores.  Enabled multithreaded rendering.\n",
      "PyMOL>fab BLILKPLKLLKCLKKLZ; save LILKPLKLLKCLKKL.pdb\n",
      " Save: wrote \"LILKPLKLLKCLKKL.pdb\".\n"
     ]
    },
    {
     "data": {
      "text/plain": [
       "0"
      ]
     },
     "execution_count": 2,
     "metadata": {},
     "output_type": "execute_result"
    }
   ],
   "source": [
    "# (1) Input FASTA sequence of peptide and convert to pdb \n",
    "\n",
    "fasta = \"LILKPLKLLKCLKKL\"\n",
    "\n",
    "import os \n",
    "os.system('chmod +x fasta_to_pdb.sh')\n",
    "os.system(f'./fasta_to_pdb.sh {fasta}')"
   ]
  },
  {
   "cell_type": "code",
   "execution_count": null,
   "id": "eb22648a",
   "metadata": {},
   "outputs": [],
   "source": [
    "# (2) Fix PDB file - is this necessary ?\n",
    "\n",
    "filename = f'{fasta}.pdb'\n",
    "fixer = PDBFixer(filename)\n",
    "fixer.findMissingResidues()\n",
    "fixer.findMissingAtoms()\n",
    "fixer.addMissingAtoms()\n",
    "fixer.addMissingHydrogens(pH=7.0)\n",
    "\n",
    "\n",
    "with open(f'{fasta}_fixed.pdb', 'w') as f:\n",
    "    PDBFile.writeFile(fixer.topology, fixer.positions, f)"
   ]
  },
  {
   "cell_type": "code",
   "execution_count": null,
   "id": "12617638",
   "metadata": {},
   "outputs": [],
   "source": [
    "## PERFORM GEOMETRY OPTIMISATION ## \n",
    "# XTB ? #"
   ]
  },
  {
   "cell_type": "code",
   "execution_count": 55,
   "id": "5727ea5e",
   "metadata": {},
   "outputs": [
    {
     "data": {
      "text/plain": [
       "np.float64(23.644648232119852)"
      ]
     },
     "execution_count": 55,
     "metadata": {},
     "output_type": "execute_result"
    }
   ],
   "source": [
    "# (4) Geometry optimisation of peptide structure \n",
    "# (5) Box created of four copies of peptide\n",
    "# (6) Run simulation on peptide box in xTB\n",
    "# (7) Process output, generate COLVAR file \n",
    "# (8) Train neural network on COLVAR data \n",
    "# (9) Run DFTB+ simulations using ML model \n",
    "# (10) \n",
    "\n",
    "import numpy as np\n",
    "coords = peptide.get_positions()  # Nx3 array of atomic coordinates\n",
    "center = peptide.get_center_of_mass()  # or geometric center\n",
    "\n",
    "distances = np.linalg.norm(coords - center, axis=1)\n",
    "r_peptide = distances.max()\n",
    "\n",
    "r_peptide"
   ]
  },
  {
   "cell_type": "code",
   "execution_count": 6,
   "id": "b2cd22dd",
   "metadata": {},
   "outputs": [
    {
     "name": "stdout",
     "output_type": "stream",
     "text": [
      "Cell size: 181.88 Å\n"
     ]
    }
   ],
   "source": [
    "from ase.io import read,write\n",
    "import math\n",
    "import random\n",
    "import numpy as np\n",
    "\n",
    "peptide_number = 4\n",
    "radius = 60\n",
    "margin = 5\n",
    "\n",
    "peptide = read(f\"{fasta}.pdb\")\n",
    "\n",
    "combined_peptides = peptide.copy()\n",
    "\n",
    "for i in range(1, peptide_number):\n",
    "    new_peptide = peptide.copy()\n",
    "    \n",
    "    # Random rotation angle in degrees (because the example uses degrees)\n",
    "    rot_angle = random.uniform(0, 360)\n",
    "    \n",
    "    # Pick a random axis from x, y, z (or their negatives)\n",
    "    axis = random.choice(['x', 'y', 'z', '-x', '-y', '-z'])\n",
    "    \n",
    "    # Apply rotation around chosen axis and angle\n",
    "    new_peptide.rotate(rot_angle, axis)\n",
    "    \n",
    "    # Position on circle\n",
    "    angle = 2 * math.pi * i / peptide_number\n",
    "    x = radius * math.cos(angle)\n",
    "    y = radius * math.sin(angle)\n",
    "    z = 0\n",
    "    \n",
    "    new_peptide.translate([x, y, z])\n",
    "    combined_peptides += new_peptide\n",
    "\n",
    "\n",
    "coords = peptide.get_positions()\n",
    "center = peptide.get_center_of_mass()\n",
    "distances = np.linalg.norm(coords - center, axis=1)\n",
    "r_peptide = distances.max()\n",
    "\n",
    "# Compute cell size (large enough for circle + peptide size + margin)\n",
    "cell_size = 2 * (radius + r_peptide) + margin\n",
    "\n",
    "combined_peptides.set_cell([cell_size, cell_size, cell_size])\n",
    "combined_peptides.center()\n",
    "\n",
    "ase.io.write(f'4_{fasta}.pdb', combined_peptides)\n",
    "\n",
    "print(f\"Cell size: {cell_size:.2f} Å\")"
   ]
  },
  {
   "cell_type": "markdown",
   "id": "d5903287",
   "metadata": {},
   "source": []
  },
  {
   "cell_type": "markdown",
   "id": "f1a1422f",
   "metadata": {},
   "source": []
  }
 ],
 "metadata": {
  "kernelspec": {
   "display_name": "ase-v1",
   "language": "python",
   "name": "python3"
  },
  "language_info": {
   "codemirror_mode": {
    "name": "ipython",
    "version": 3
   },
   "file_extension": ".py",
   "mimetype": "text/x-python",
   "name": "python",
   "nbconvert_exporter": "python",
   "pygments_lexer": "ipython3",
   "version": "3.13.5"
  }
 },
 "nbformat": 4,
 "nbformat_minor": 5
}
